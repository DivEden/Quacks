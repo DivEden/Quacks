{
 "cells": [
  {
   "attachments": {},
   "cell_type": "markdown",
   "metadata": {},
   "source": [
    "# Introduktion til Bilaget\n",
    "Velkommen til bilaget af vores projekt om kvaksalver. I dette dokument vil vi gå i dybden og forklare, hvordan vores grafer er blevet lavet, og forklare de data, som vi har valgt at skabe dem med. Der vil både være grafer som er direkte referet til i projektet, men der vil yderligere også være visualiseringer og data som er interessante, men ikke direkte bliver brugt i projektet.\n",
    "## Struktur\n",
    "Dette dokument indeholder information, der er essentiel for at forstå de kommende kapitler, så det er vigtigt først at forklare, hvordan det skal læses. I dokumentet anvendes to primære typer af blokke: Markdown (MD) blokke og Python blokke.  \n",
    "Markdown Blokke: Disse blokke bruges til at skrive tekst. Teksten, som du læser lige nu, er et eksempel på en markdown blok. Disse blokke vises som ren tekst uden nogen visuel baggrund eller formatering.  \n",
    "Python Blokke: I modsætning til markdown blokke, er Python blokke designet til at indeholde og udøve Python kode. Disse blokke kan identificeres ved deres indramning i en boks, hvilket adskiller dem visuelt fra markdown blokke."
   ]
  },
  {
   "cell_type": "code",
   "execution_count": 1,
   "metadata": {},
   "outputs": [
    {
     "name": "stdout",
     "output_type": "stream",
     "text": [
      "Hello World!!\n"
     ]
    }
   ],
   "source": [
    "# Dette er en python blok\n",
    "print(\"Hello World!!\")"
   ]
  },
  {
   "cell_type": "markdown",
   "metadata": {},
   "source": [
    "Når kode skrives indenfor en Python blok, vil outputtet af den pågældende kode blive skrevet med det samme efter blokken. Dette betyder, at grafer og beregninger altid vil følge efter en Python blok. Desuden, når vi skriver kode, vil forklaringerne altid være inden i Python blokkene. Yderligere, hvis den samme kode bliver brugt flere gange bliver den kun forklaret første gang den bruges i dokumentet. Dette er for at gøre det lettere for læsere, der ikke behøver at kende til hver enkel detalje af koden, og som er mere interesseret i metodologien bag vores datavisualiseringer, hvilke altid vil være i Markdown blokke.\n",
    "\n",
    "For navigation, venligst brug indekset på venstre side, hvis noget specifikt er af interesse, eller brug knappen i bunden af siden, hvis hele bogen ønskes at blive læst kronologisk."
   ]
  }
 ],
 "metadata": {
  "kernelspec": {
   "display_name": "base",
   "language": "python",
   "name": "python3"
  },
  "language_info": {
   "codemirror_mode": {
    "name": "ipython",
    "version": 3
   },
   "file_extension": ".py",
   "mimetype": "text/x-python",
   "name": "python",
   "nbconvert_exporter": "python",
   "pygments_lexer": "ipython3",
   "version": "3.11.7"
  }
 },
 "nbformat": 4,
 "nbformat_minor": 2
}